{
 "cells": [
  {
   "cell_type": "markdown",
   "id": "c4bae7a8",
   "metadata": {},
   "source": [
    "## CO<sub>2</sub> data from the Vaisala instrument\n",
    "\n",
    "This script calculates carbon dioxide flux in mg m<sup>-2</sup> s<sup>-1</sup> from the Vaisala instrument (concentration in ppm) using a linear regression fit.\n"
   ]
  },
  {
   "cell_type": "code",
   "execution_count": 1,
   "id": "678531b5",
   "metadata": {
    "message": false
   },
   "outputs": [
    {
     "ename": "SyntaxError",
     "evalue": "invalid syntax (Temp/ipykernel_16396/3302747039.py, line 7)",
     "output_type": "error",
     "traceback": [
      "\u001b[1;36m  File \u001b[1;32m\"C:\\Users\\Owner\\AppData\\Local\\Temp/ipykernel_16396/3302747039.py\"\u001b[1;36m, line \u001b[1;32m7\u001b[0m\n\u001b[1;33m    raw_data$TempChamber <- ifelse(is.na(raw_data$T.II....C),\u001b[0m\n\u001b[1;37m            ^\u001b[0m\n\u001b[1;31mSyntaxError\u001b[0m\u001b[1;31m:\u001b[0m invalid syntax\n"
     ]
    }
   ],
   "source": [
    "#Set directory and load data\n",
    "raw_data <- read_bulk(directory = \"D:/Git/project-3/raw-data/vaisala-raw/\",\n",
    "                      subdirectories = c(\"01\", \"02\", \"03\", \"04\"),\n",
    "                      extension = \".csv\")\n",
    "\n",
    "#Replace values in \"column T.II....C\" with the non-NA values from column \"TGAS.I....C\" creating new column \"TempChamber\"\n",
    "raw_data$TempChamber <- ifelse(is.na(raw_data$T.II....C),\n",
    "                               raw_data$TGAS.I....C, raw_data$T.II....C)\n",
    "\n",
    "#Rename variables to nicer things\n",
    "names(raw_data)[names(raw_data) == \"X\"] <- \"Time\"\n",
    "names(raw_data)[names(raw_data) == \"CO2.I...ppm\"] <- \"CO2\"\n",
    "names(raw_data)[names(raw_data) == \"RH.II....\"] <- \"RH\"\n",
    "names(raw_data)[names(raw_data) == \"Subdirectory\"] <- \"Vaisala\"\n",
    "\n",
    "#Remove unnecessary columns \n",
    "#This code removes 3rd and 7th columns\n",
    "raw_data <- select(raw_data, -c(3, 7))\n",
    "\n",
    "#Grab metadata (pick the correct path)\n",
    "fl <- dir(\"D:/Git/project-3/raw-data/vaisala-raw/\")[grepl('\\\\.csv$', dir(\"D:/Git/project-3/raw-data/vaisala-raw/\"))]\n",
    "fl <- paste(\"D:/Git/project-3/raw-data/vaisala-raw/\", fl, sep = '')\n",
    "meta <- do.call(rbind,\n",
    "                lapply(fl, read.csv, as.is = TRUE))\n",
    "\n",
    "#Merge datasets by file name keeping order\n",
    "names(meta)[names(meta) == \"ï..File\"] <- \"File\"\n",
    "proc_data <- join(raw_data, meta,\n",
    "                type = \"inner\")\n",
    "\n",
    "#Remove missing Vaisala data\n",
    "colSums(is.na(proc_data))\n",
    "proc_data <- na.exclude(proc_data)\n",
    "\n",
    "#Calibrate CO2 according to Vaisala\n",
    "proc_data$CO2calib <- with (proc_data, (CO2 - Calib1) / Calib2)\n",
    "\n",
    "#To calculate dt we need to to convert Time from factor to POSIXct\n",
    "proc_data$Datetime <- as.POSIXct(paste(proc_data$Time,tz = \"\"),\n",
    "                                 format = \"%d/%m/%Y %H:%M:%S\")\n",
    "\n",
    "#Pick specific Vaisala and closure (file)  \n",
    "#This code picked Vaisala 4 and closure 8\n",
    "sub <- subset(proc_data, Vaisala == \"04\" & Closure == \"8\")\n",
    "sub$dt <- as.numeric(sub$Datetime - sub$Datetime[1])\n",
    "model1 <- lm(CO2calib ~ dt, data = sub)\n",
    "plot(CO2calib ~ dt, data = sub)\n",
    "abline(model1, col = \"blue\", lwd = 2)\n",
    "\n",
    "#Add fitted values to dataframe\n",
    "sub$CO2fitted <- fitted(model1)\n",
    "\n",
    "#Calculate average CO<sub>2</sub>\n",
    "flux <- as.numeric(coef(model1)[2] *\n",
    "                     (sub$ChamberV / sub$CollarA) *\n",
    "                     (44.01 / 22.414) * (273.15 / (273.15 + sub$Temp)))"
   ]
  },
  {
   "cell_type": "markdown",
   "id": "b62405d5",
   "metadata": {
    "lines_to_next_cell": 0
   },
   "source": [
    "*The mean flux for Vaisala 4 and enclosure 8 is*"
   ]
  },
  {
   "cell_type": "code",
   "execution_count": null,
   "id": "b86216d4",
   "metadata": {
    "lines_to_next_cell": 0,
    "message": false
   },
   "outputs": [],
   "source": [
    "mean(flux)"
   ]
  },
  {
   "cell_type": "markdown",
   "id": "eca62316",
   "metadata": {},
   "source": [
    "\n",
    "\n",
    "\n",
    "\n",
    "\n"
   ]
  }
 ],
 "metadata": {
  "jupytext": {
   "cell_metadata_filter": "message,-all",
   "formats": "Rmd,ipynb",
   "main_language": "R",
   "notebook_metadata_filter": "-all"
  },
  "kernelspec": {
   "display_name": "Python 3 (ipykernel)",
   "language": "python",
   "name": "python3"
  },
  "language_info": {
   "codemirror_mode": {
    "name": "ipython",
    "version": 3
   },
   "file_extension": ".py",
   "mimetype": "text/x-python",
   "name": "python",
   "nbconvert_exporter": "python",
   "pygments_lexer": "ipython3",
   "version": "3.9.5"
  }
 },
 "nbformat": 4,
 "nbformat_minor": 5
}
